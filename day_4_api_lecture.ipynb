{
 "cells": [
  {
   "cell_type": "markdown",
   "metadata": {},
   "source": [
    "# What is an API?\n",
    "Let's start with the APIs. The first thing you need to know is: **APIs are everywhere!**\n",
    "\n",
    "- API is short for Application Programming Interface. \n",
    "- APIs allow two computers to communicate with each other and exchange information. They are used widely in data science and we will see some use-cases during today's exercise.\n",
    "\n",
    "<img src=\"data/api.png\">\n",
    "\n",
    "# Examples of API\n",
    "- Weather API ([example](https://openweathermap.org/api))\n",
    "- PayPal API ([example](https://developer.paypal.com/docs/api/overview/))\n",
    "- Google Sheets API ([example](https://developers.google.com/sheets/api))\n",
    "- Google Ads API ([example](https://developers.google.com/google-ads/api/docs/start))\n",
    "- Facebook Marketin API ([example](https://developers.facebook.com/docs/marketing-apis/))\n",
    "\n",
    "# What is HTTP?\n",
    "- HTTP stands for Hypertext Transfer Protocol and is used to structure requests and responses over the internet. HTTP requires data to be transferred from one point to another over the network.\n",
    "\n",
    "## HTTP request methods:\n",
    "- GET\n",
    "- POST\n",
    "- PUT\n",
    "- DELETE"
   ]
  },
  {
   "cell_type": "code",
   "execution_count": null,
   "metadata": {},
   "outputs": [],
   "source": [
    "# import library\n",
    "import requests\n",
    "import pandas as pd"
   ]
  },
  {
   "cell_type": "code",
   "execution_count": null,
   "metadata": {},
   "outputs": [],
   "source": [
    "# load google search page with GET method\n",
    "r = requests.get('https://www.google.sk/')\n",
    "r"
   ]
  },
  {
   "cell_type": "markdown",
   "metadata": {},
   "source": [
    "## HTTP response status codes\n",
    "HTTP response status codes indicate whether a specific HTTP request has been successfully completed. Responses are grouped in five classes:\n",
    "\n",
    "- Informational responses (100–199)\n",
    "- Successful responses (200–299)\n",
    "- Redirects (300–399)\n",
    "- Client errors (400–499)\n",
    "- Server errors (500–599)\n",
    "\n",
    "All status codes can be found [here](https://developer.mozilla.org/en-US/docs/Web/HTTP/Status)."
   ]
  },
  {
   "cell_type": "code",
   "execution_count": null,
   "metadata": {},
   "outputs": [],
   "source": [
    "# chceck status code\n",
    "r.status_code"
   ]
  },
  {
   "cell_type": "code",
   "execution_count": null,
   "metadata": {},
   "outputs": [],
   "source": [
    "# chceck the headers\n",
    "r.headers"
   ]
  },
  {
   "cell_type": "code",
   "execution_count": null,
   "metadata": {},
   "outputs": [],
   "source": [
    "# url of request\n",
    "r.url"
   ]
  },
  {
   "cell_type": "code",
   "execution_count": null,
   "metadata": {},
   "outputs": [],
   "source": [
    "# encoding\n",
    "r.encoding"
   ]
  },
  {
   "cell_type": "code",
   "execution_count": null,
   "metadata": {},
   "outputs": [],
   "source": [
    "# html content\n",
    "r.text"
   ]
  },
  {
   "cell_type": "code",
   "execution_count": null,
   "metadata": {},
   "outputs": [],
   "source": [
    "# create params\n",
    "params = {\n",
    "    'key1': 'value1', \n",
    "    'key2': 'value2'\n",
    "}\n",
    "\n",
    "r = requests.get('https://httpbin.org/get', params=params)"
   ]
  },
  {
   "cell_type": "code",
   "execution_count": null,
   "metadata": {},
   "outputs": [],
   "source": [
    "# check the url\n",
    "r.url"
   ]
  },
  {
   "cell_type": "code",
   "execution_count": null,
   "metadata": {},
   "outputs": [],
   "source": [
    "# json\n",
    "r.json()"
   ]
  },
  {
   "cell_type": "code",
   "execution_count": null,
   "metadata": {},
   "outputs": [],
   "source": [
    "# fake User-Agent \n",
    "headers = {\n",
    "    'User-Agent': 'Mozilla/5.0 (Macintosh; Intel Mac OS X 10_15_4) AppleWebKit/537.36 (KHTML, like Gecko) Chrome/83.0.4103.97 Safari/537.36'\n",
    "}\n",
    "\n",
    "params = {\n",
    "    'key1': 'value1', \n",
    "    'key2': 'value2'\n",
    "}\n",
    "\n",
    "r = requests.get('https://httpbin.org/get', params=params, headers=headers)"
   ]
  },
  {
   "cell_type": "code",
   "execution_count": null,
   "metadata": {},
   "outputs": [],
   "source": [
    "r.json()"
   ]
  },
  {
   "cell_type": "code",
   "execution_count": null,
   "metadata": {},
   "outputs": [],
   "source": [
    "# POST METHOD\n",
    "data = {\n",
    "    'name': 'name_here',\n",
    "    'surname': 'surname_here'\n",
    "}\n",
    "r = requests.post('https://httpbin.org/post', json = data)\n",
    "r.json()"
   ]
  },
  {
   "cell_type": "code",
   "execution_count": null,
   "metadata": {},
   "outputs": [],
   "source": []
  },
  {
   "cell_type": "markdown",
   "metadata": {},
   "source": [
    "# Own API with Flask"
   ]
  },
  {
   "cell_type": "code",
   "execution_count": null,
   "metadata": {},
   "outputs": [],
   "source": [
    "##################################\n",
    "# DO NOT RUN THIS CELL IN JUPYTER\n",
    "#################################\n",
    "from flask import Flask\n",
    "from flask_restful import Resource, Api, reqparse\n",
    "\n",
    "# create app\n",
    "app = Flask(__name__)\n",
    "\n",
    "# create api\n",
    "api = Api(app)\n",
    "\n",
    "items = []\n",
    "\n",
    "# create item endpoint\n",
    "class Item(Resource):\n",
    "    parser = reqparse.RequestParser()\n",
    "    parser.add_argument('price',\n",
    "        type=float,\n",
    "        required=True,\n",
    "        help=\"This field cannot be left blank!\"\n",
    "    )\n",
    "\n",
    "    def get(self, name):\n",
    "        matched_items = [item for item in items if item['name'] == name]\n",
    "        if not matched_items:\n",
    "            return {'item': None}\n",
    "        \n",
    "        return {'item': matched_items[0]}\n",
    "\n",
    "    def post(self, name):\n",
    "        matched_items = [item for item in items if item['name'] == name]\n",
    "        \n",
    "        if matched_items:\n",
    "            return {'message': f\"An item with name '{name}' already exists.\"}\n",
    "\n",
    "        data = Item.parser.parse_args()\n",
    "\n",
    "        item = {'name': name, 'price': data['price']}\n",
    "        items.append(item)\n",
    "        \n",
    "        return {\n",
    "            'message': 'Item created',\n",
    "            'item': item\n",
    "        }\n",
    "\n",
    "    def delete(self, name):\n",
    "        global items\n",
    "        items = [item for item in items if item['name'] != name]\n",
    "        \n",
    "        return {'message': 'Item deleted'}\n",
    "\n",
    "    def put(self, name):\n",
    "        data = Item.parser.parse_args()\n",
    "        \n",
    "        matched_items = [item for item in items if item['name'] == name]\n",
    "        if not matched_items:\n",
    "            item = {'name': name, 'price': data['price']}\n",
    "            items.append(item)\n",
    "        else:\n",
    "            matched_items[0].update(data)\n",
    "        \n",
    "        return {'message': 'Item updated'}\n",
    "\n",
    "# create items endpoinnt\n",
    "class ItemList(Resource):\n",
    "    def get(self):\n",
    "        return {'items': items}\n",
    "\n",
    "# register endpoints\n",
    "api.add_resource(Item, '/item/<string:name>')\n",
    "api.add_resource(ItemList, '/items')\n",
    "\n",
    "# if __name__ == '__main__':\n",
    "#     app.run(debug=True)"
   ]
  },
  {
   "cell_type": "code",
   "execution_count": null,
   "metadata": {},
   "outputs": [],
   "source": [
    "# check the items\n",
    "r = requests.get('http://127.0.0.1:5000/items')\n",
    "r.json()"
   ]
  },
  {
   "cell_type": "code",
   "execution_count": null,
   "metadata": {},
   "outputs": [],
   "source": [
    "# create an item without price (this will cause an error)\n",
    "r = requests.post('http://127.0.0.1:5000/item/desk')\n",
    "r.json()"
   ]
  },
  {
   "cell_type": "code",
   "execution_count": null,
   "metadata": {},
   "outputs": [],
   "source": [
    "# create an item with price\n",
    "data = {\n",
    "    'price': 12\n",
    "}\n",
    "r = requests.post('http://127.0.0.1:5000/item/desk', data=data)\n",
    "r.json()"
   ]
  },
  {
   "cell_type": "code",
   "execution_count": null,
   "metadata": {},
   "outputs": [],
   "source": [
    "# check the items\n",
    "r = requests.get('http://127.0.0.1:5000/items')\n",
    "r.json()"
   ]
  },
  {
   "cell_type": "code",
   "execution_count": null,
   "metadata": {},
   "outputs": [],
   "source": [
    "data = {\n",
    "    'price': 20\n",
    "}\n",
    "r = requests.post('http://127.0.0.1:5000/item/table', data=data)\n",
    "r.json()"
   ]
  },
  {
   "cell_type": "code",
   "execution_count": null,
   "metadata": {},
   "outputs": [],
   "source": [
    "# items we want to store in our db\n",
    "items_to_store = [\n",
    "    ('PC', 200),\n",
    "    ('TV', 500),\n",
    "    ('pen', 1),\n",
    "    ('sofa', 50)\n",
    "]"
   ]
  },
  {
   "cell_type": "code",
   "execution_count": null,
   "metadata": {},
   "outputs": [],
   "source": [
    "# store the items with api calls\n",
    "for item in items_to_store:\n",
    "    name = item[0]\n",
    "    price = item[1]\n",
    "    r = requests.post(f'http://127.0.0.1:5000/item/{name}', data={'price': price})\n",
    "    print(r.json())"
   ]
  },
  {
   "cell_type": "code",
   "execution_count": null,
   "metadata": {},
   "outputs": [],
   "source": [
    "# get sofa from API\n",
    "r = requests.get(f'http://127.0.0.1:5000/item/sofa')\n",
    "r.json()"
   ]
  },
  {
   "cell_type": "code",
   "execution_count": null,
   "metadata": {},
   "outputs": [],
   "source": [
    "# update sofa with API\n",
    "r = requests.put(f'http://127.0.0.1:5000/item/sofa', data={'price': 60})\n",
    "r.json()"
   ]
  },
  {
   "cell_type": "code",
   "execution_count": null,
   "metadata": {},
   "outputs": [],
   "source": [
    "# get sofa from API\n",
    "r = requests.get(f'http://127.0.0.1:5000/item/sofa')\n",
    "r.json()"
   ]
  },
  {
   "cell_type": "code",
   "execution_count": null,
   "metadata": {},
   "outputs": [],
   "source": [
    "# get sofa from API\n",
    "r = requests.delete(f'http://127.0.0.1:5000/item/sofa')\n",
    "r.json()"
   ]
  },
  {
   "cell_type": "code",
   "execution_count": null,
   "metadata": {},
   "outputs": [],
   "source": [
    "# get sofa from API\n",
    "r = requests.get(f'http://127.0.0.1:5000/item/sofa')\n",
    "r.json()"
   ]
  },
  {
   "cell_type": "code",
   "execution_count": null,
   "metadata": {},
   "outputs": [],
   "source": [
    "# check the items\n",
    "r = requests.get('http://127.0.0.1:5000/items')\n",
    "data = r.json()"
   ]
  },
  {
   "cell_type": "code",
   "execution_count": null,
   "metadata": {},
   "outputs": [],
   "source": [
    "df = pd.DataFrame(data['items'])\n",
    "df"
   ]
  },
  {
   "cell_type": "code",
   "execution_count": null,
   "metadata": {},
   "outputs": [],
   "source": [
    "df['price'].mean()"
   ]
  },
  {
   "cell_type": "code",
   "execution_count": null,
   "metadata": {},
   "outputs": [],
   "source": []
  }
 ],
 "metadata": {
  "kernelspec": {
   "display_name": "Python 3",
   "language": "python",
   "name": "python3"
  },
  "language_info": {
   "codemirror_mode": {
    "name": "ipython",
    "version": 3
   },
   "file_extension": ".py",
   "mimetype": "text/x-python",
   "name": "python",
   "nbconvert_exporter": "python",
   "pygments_lexer": "ipython3",
   "version": "3.7.4"
  }
 },
 "nbformat": 4,
 "nbformat_minor": 4
}
