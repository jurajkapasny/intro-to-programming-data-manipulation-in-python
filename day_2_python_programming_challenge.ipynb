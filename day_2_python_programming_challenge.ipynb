{
 "cells": [
  {
   "cell_type": "markdown",
   "metadata": {},
   "source": [
    "## Exception Handling\n",
    "\n",
    "Now, let's go to **errors and exception handling**"
   ]
  },
  {
   "cell_type": "code",
   "execution_count": 2,
   "metadata": {},
   "outputs": [],
   "source": [
    "_list = [\"a\",\"data science\", 0, \"data\", 1]"
   ]
  },
  {
   "cell_type": "markdown",
   "metadata": {},
   "source": [
    "* transform all strings from list to upper, if the element is not string don't transform it\n",
    "* use try except block without use of 'if' statement"
   ]
  },
  {
   "cell_type": "code",
   "execution_count": null,
   "metadata": {},
   "outputs": [],
   "source": []
  },
  {
   "cell_type": "code",
   "execution_count": null,
   "metadata": {},
   "outputs": [],
   "source": []
  },
  {
   "cell_type": "code",
   "execution_count": null,
   "metadata": {},
   "outputs": [],
   "source": []
  },
  {
   "cell_type": "markdown",
   "metadata": {},
   "source": [
    "### We have the function created below:"
   ]
  },
  {
   "cell_type": "markdown",
   "metadata": {},
   "source": [
    "Luke Skywalker has family and friends. Help him remind them who is who. Given a string with a name, return the relation of that person to Luke.\n",
    "\n",
    "**Person --> Relation**\n",
    "- Darth Vader --> father\n",
    "- Leia --> sister\n",
    "- Han --> brother in law\n",
    "- R2D2 --> droid\n",
    "\n",
    "#### Examples\n",
    "\n",
    "> relation_to_luke(\"Darth Vader\") ➞ \"Luke, I am your father.\"\n",
    ">\n",
    "> relation_to_luke(\"Leia\") ➞ \"Luke, I am your sister.\"\n",
    ">\n",
    "> relation_to_luke(\"Han\") ➞ \"Luke, I am your brother in law.\""
   ]
  },
  {
   "cell_type": "code",
   "execution_count": 18,
   "metadata": {},
   "outputs": [],
   "source": [
    "def relation_to_luke(text):\n",
    "    _dict = []\n",
    "    _dict[\"Darth Vader\"] = \"father\"\n",
    "    _dict[\"Leia\"] = \"sister\"\n",
    "    _dict[\"Ham\"] = \"brother in law\"\n",
    "    _dict[\"R2D2\"] = \"droid\"\n",
    "    print(f\"Luke, I am your {+ _dict[text]}\")"
   ]
  },
  {
   "cell_type": "code",
   "execution_count": null,
   "metadata": {},
   "outputs": [],
   "source": []
  },
  {
   "cell_type": "code",
   "execution_count": null,
   "metadata": {},
   "outputs": [],
   "source": []
  },
  {
   "cell_type": "markdown",
   "metadata": {},
   "source": [
    "#### Task I\n",
    "Fix errors in the function above so we can run following code"
   ]
  },
  {
   "cell_type": "code",
   "execution_count": 19,
   "metadata": {
    "collapsed": true,
    "jupyter": {
     "outputs_hidden": true
    }
   },
   "outputs": [
    {
     "ename": "TypeError",
     "evalue": "list indices must be integers or slices, not str",
     "output_type": "error",
     "traceback": [
      "\u001b[0;31m---------------------------------------------------------------------------\u001b[0m",
      "\u001b[0;31mTypeError\u001b[0m                                 Traceback (most recent call last)",
      "\u001b[0;32m<ipython-input-19-dd006f5aa63b>\u001b[0m in \u001b[0;36m<module>\u001b[0;34m\u001b[0m\n\u001b[0;32m----> 1\u001b[0;31m \u001b[0mrelation_to_luke\u001b[0m\u001b[0;34m(\u001b[0m\u001b[0;34m\"Darth Vader\"\u001b[0m\u001b[0;34m)\u001b[0m\u001b[0;34m\u001b[0m\u001b[0;34m\u001b[0m\u001b[0m\n\u001b[0m\u001b[1;32m      2\u001b[0m \u001b[0mrelation_to_luke\u001b[0m\u001b[0;34m(\u001b[0m\u001b[0;34m\"Leia\"\u001b[0m\u001b[0;34m)\u001b[0m\u001b[0;34m\u001b[0m\u001b[0;34m\u001b[0m\u001b[0m\n\u001b[1;32m      3\u001b[0m \u001b[0mrelation_to_luke\u001b[0m\u001b[0;34m(\u001b[0m\u001b[0;34m\"Han\"\u001b[0m\u001b[0;34m)\u001b[0m\u001b[0;34m\u001b[0m\u001b[0;34m\u001b[0m\u001b[0m\n\u001b[1;32m      4\u001b[0m \u001b[0mrelation_to_luke\u001b[0m\u001b[0;34m(\u001b[0m\u001b[0;34m\"R2D2\"\u001b[0m\u001b[0;34m)\u001b[0m\u001b[0;34m\u001b[0m\u001b[0;34m\u001b[0m\u001b[0m\n",
      "\u001b[0;32m<ipython-input-18-8f7792ef279b>\u001b[0m in \u001b[0;36mrelation_to_luke\u001b[0;34m(text)\u001b[0m\n\u001b[1;32m      1\u001b[0m \u001b[0;32mdef\u001b[0m \u001b[0mrelation_to_luke\u001b[0m\u001b[0;34m(\u001b[0m\u001b[0mtext\u001b[0m\u001b[0;34m)\u001b[0m\u001b[0;34m:\u001b[0m\u001b[0;34m\u001b[0m\u001b[0;34m\u001b[0m\u001b[0m\n\u001b[1;32m      2\u001b[0m     \u001b[0m_dict\u001b[0m \u001b[0;34m=\u001b[0m \u001b[0;34m[\u001b[0m\u001b[0;34m]\u001b[0m\u001b[0;34m\u001b[0m\u001b[0;34m\u001b[0m\u001b[0m\n\u001b[0;32m----> 3\u001b[0;31m     \u001b[0m_dict\u001b[0m\u001b[0;34m[\u001b[0m\u001b[0;34m\"Darth Vader\"\u001b[0m\u001b[0;34m]\u001b[0m \u001b[0;34m=\u001b[0m \u001b[0;34m\"father\"\u001b[0m\u001b[0;34m\u001b[0m\u001b[0;34m\u001b[0m\u001b[0m\n\u001b[0m\u001b[1;32m      4\u001b[0m     \u001b[0m_dict\u001b[0m\u001b[0;34m[\u001b[0m\u001b[0;34m\"Leia\"\u001b[0m\u001b[0;34m]\u001b[0m \u001b[0;34m=\u001b[0m \u001b[0;34m\"sister\"\u001b[0m\u001b[0;34m\u001b[0m\u001b[0;34m\u001b[0m\u001b[0m\n\u001b[1;32m      5\u001b[0m     \u001b[0m_dict\u001b[0m\u001b[0;34m[\u001b[0m\u001b[0;34m\"Ham\"\u001b[0m\u001b[0;34m]\u001b[0m \u001b[0;34m=\u001b[0m \u001b[0;34m\"brother in law\"\u001b[0m\u001b[0;34m\u001b[0m\u001b[0;34m\u001b[0m\u001b[0m\n",
      "\u001b[0;31mTypeError\u001b[0m: list indices must be integers or slices, not str"
     ]
    }
   ],
   "source": [
    "relation_to_luke(\"Darth Vader\")\n",
    "relation_to_luke(\"Leia\")\n",
    "relation_to_luke(\"Han\")\n",
    "relation_to_luke(\"R2D2\")"
   ]
  },
  {
   "cell_type": "code",
   "execution_count": null,
   "metadata": {},
   "outputs": [],
   "source": []
  },
  {
   "cell_type": "code",
   "execution_count": null,
   "metadata": {},
   "outputs": [],
   "source": []
  },
  {
   "cell_type": "code",
   "execution_count": null,
   "metadata": {},
   "outputs": [],
   "source": []
  },
  {
   "cell_type": "markdown",
   "metadata": {},
   "source": [
    "#### Task II\n",
    "Use exception handling so we can run the function with any string. In this case, the function will return following:\n",
    "\n",
    "**relation_to_luke(\"aaaa\") ➞ \"aaaa is not in the relation with Luke\"**\n",
    "\n",
    "> #### Note\n",
    "> We **cannot** use **if** statement for this"
   ]
  },
  {
   "cell_type": "code",
   "execution_count": null,
   "metadata": {},
   "outputs": [],
   "source": []
  },
  {
   "cell_type": "code",
   "execution_count": null,
   "metadata": {},
   "outputs": [],
   "source": []
  },
  {
   "cell_type": "markdown",
   "metadata": {},
   "source": [
    "# Time & Date Exercise"
   ]
  },
  {
   "cell_type": "code",
   "execution_count": null,
   "metadata": {
    "ExecuteTime": {
     "end_time": "2020-04-23T12:59:43.427172Z",
     "start_time": "2020-04-23T12:59:43.421241Z"
    }
   },
   "outputs": [],
   "source": [
    "import datetime"
   ]
  },
  {
   "cell_type": "markdown",
   "metadata": {
    "ExecuteTime": {
     "end_time": "2020-04-23T12:52:58.201151Z",
     "start_time": "2020-04-23T12:52:58.193651Z"
    }
   },
   "source": [
    "**print:**\n",
    "1.  Current date and time\n",
    "2.  Current year\n",
    "3.  Month of year\n",
    "4.  Week number of the year\n",
    "5.  Weekday of the week\n",
    "6.  Day of year\n",
    "7.  Day of the month\n",
    "8.  Day of week"
   ]
  },
  {
   "cell_type": "code",
   "execution_count": null,
   "metadata": {
    "ExecuteTime": {
     "end_time": "2020-04-23T12:53:26.216074Z",
     "start_time": "2020-04-23T12:53:26.206960Z"
    }
   },
   "outputs": [],
   "source": []
  },
  {
   "cell_type": "markdown",
   "metadata": {},
   "source": [
    "* convert a string to datetime\n",
    "* **string** = *'Jan 1 2014 2:43PM'*"
   ]
  },
  {
   "cell_type": "code",
   "execution_count": null,
   "metadata": {
    "ExecuteTime": {
     "end_time": "2020-04-23T12:53:52.241615Z",
     "start_time": "2020-04-23T12:53:52.231428Z"
    }
   },
   "outputs": [],
   "source": []
  },
  {
   "cell_type": "markdown",
   "metadata": {},
   "source": [
    "* print the current time "
   ]
  },
  {
   "cell_type": "code",
   "execution_count": null,
   "metadata": {
    "ExecuteTime": {
     "end_time": "2020-03-11T18:16:28.915595Z",
     "start_time": "2020-03-11T18:16:28.909658Z"
    }
   },
   "outputs": [],
   "source": []
  },
  {
   "cell_type": "markdown",
   "metadata": {},
   "source": [
    "* subtract five days from current date"
   ]
  },
  {
   "cell_type": "code",
   "execution_count": null,
   "metadata": {
    "ExecuteTime": {
     "end_time": "2020-04-23T12:54:56.116690Z",
     "start_time": "2020-04-23T12:54:56.111293Z"
    }
   },
   "outputs": [],
   "source": []
  },
  {
   "cell_type": "markdown",
   "metadata": {
    "ExecuteTime": {
     "end_time": "2020-04-23T12:55:10.916163Z",
     "start_time": "2020-04-23T12:55:10.910245Z"
    }
   },
   "source": [
    "* convert unix timestamp string to readable date\n",
    "* **unix** = *1284105682*"
   ]
  },
  {
   "cell_type": "code",
   "execution_count": null,
   "metadata": {
    "ExecuteTime": {
     "end_time": "2020-03-11T18:19:02.952818Z",
     "start_time": "2020-03-11T18:19:02.946930Z"
    }
   },
   "outputs": [],
   "source": []
  },
  {
   "cell_type": "markdown",
   "metadata": {
    "ExecuteTime": {
     "end_time": "2020-04-23T12:56:00.886007Z",
     "start_time": "2020-04-23T12:56:00.878697Z"
    }
   },
   "source": [
    "* convert today's date to Day of Year"
   ]
  },
  {
   "cell_type": "code",
   "execution_count": null,
   "metadata": {
    "ExecuteTime": {
     "end_time": "2020-04-23T12:55:58.575327Z",
     "start_time": "2020-04-23T12:55:58.553895Z"
    }
   },
   "outputs": [],
   "source": []
  },
  {
   "cell_type": "markdown",
   "metadata": {},
   "source": [
    "* get week number from today's date"
   ]
  },
  {
   "cell_type": "code",
   "execution_count": null,
   "metadata": {
    "ExecuteTime": {
     "end_time": "2020-04-23T12:56:28.577424Z",
     "start_time": "2020-04-23T12:56:28.572138Z"
    }
   },
   "outputs": [],
   "source": []
  },
  {
   "cell_type": "markdown",
   "metadata": {
    "ExecuteTime": {
     "end_time": "2020-04-23T12:56:43.939475Z",
     "start_time": "2020-04-23T12:56:43.932915Z"
    }
   },
   "source": [
    "* get the number of days between the two dates"
   ]
  },
  {
   "cell_type": "code",
   "execution_count": null,
   "metadata": {
    "ExecuteTime": {
     "end_time": "2020-04-23T12:59:47.672905Z",
     "start_time": "2020-04-23T12:59:47.667373Z"
    }
   },
   "outputs": [],
   "source": [
    "date_a = datetime.date(2020,2,2)\n",
    "date_b = datetime.date(2020,1,1)\n"
   ]
  },
  {
   "cell_type": "markdown",
   "metadata": {},
   "source": [
    "* get the number of days of the given month and year"
   ]
  },
  {
   "cell_type": "code",
   "execution_count": null,
   "metadata": {
    "ExecuteTime": {
     "end_time": "2020-04-23T12:59:48.516068Z",
     "start_time": "2020-04-23T12:59:48.511765Z"
    }
   },
   "outputs": [],
   "source": [
    "month = 10\n",
    "year = 2016\n"
   ]
  },
  {
   "cell_type": "markdown",
   "metadata": {},
   "source": [
    "* get a list of dates between the two dates"
   ]
  },
  {
   "cell_type": "code",
   "execution_count": null,
   "metadata": {
    "ExecuteTime": {
     "end_time": "2020-04-23T12:59:53.461312Z",
     "start_time": "2020-04-23T12:59:53.456769Z"
    }
   },
   "outputs": [],
   "source": [
    "start_dt = datetime.date(2015, 12, 20)\n",
    "end_dt = datetime.date(2016, 1, 11)"
   ]
  },
  {
   "cell_type": "code",
   "execution_count": null,
   "metadata": {},
   "outputs": [],
   "source": []
  },
  {
   "cell_type": "code",
   "execution_count": null,
   "metadata": {},
   "outputs": [],
   "source": []
  },
  {
   "cell_type": "code",
   "execution_count": null,
   "metadata": {},
   "outputs": [],
   "source": []
  },
  {
   "cell_type": "code",
   "execution_count": null,
   "metadata": {},
   "outputs": [],
   "source": []
  },
  {
   "cell_type": "code",
   "execution_count": null,
   "metadata": {},
   "outputs": [],
   "source": []
  },
  {
   "cell_type": "code",
   "execution_count": null,
   "metadata": {},
   "outputs": [],
   "source": []
  },
  {
   "cell_type": "markdown",
   "metadata": {},
   "source": [
    "# Python Programming Challenge"
   ]
  },
  {
   "cell_type": "markdown",
   "metadata": {},
   "source": [
    "## Task I\n",
    "\n",
    "Welcome to Codeville! The parking lot in the Codeville Devtropolis Shopping Mall needs an upgrade, and you've decided this is the perfect opportunity to install a smart parking system.\n",
    "\n",
    "The system will use special parking sensors to keep track of all parking spots and monitor which ones are available. Every time a vehicle enters the parking lot, the system directs them to an available spot for their particular vehicle type, or notifies them that no spots are available.\n",
    "\n",
    "> #### Instruction\n",
    "> We need to write a function called <code>whereCanIPark()</code> that returns the coordinates of an available parking spot for the vehicle, or returns false if there is no available spot. Our function receives a list of lists representing parking spots, and a string with type of the vehicle that is looking for a parking spot.\n",
    "\n",
    "There are three kinds of possible vehicles: **regular** cars, **small** cars, and **motorcycles**.\n",
    "\n",
    "- Regular cars can only park in **R** spots.\n",
    "- Small cars can park in **R** or **S** spots.\n",
    "- Motorcycles can park in **R**, **S**, or **M** spots.\n",
    "\n",
    "In the list of parking spots, spots are written in both lower-case and upper-case. An upper-case letter means that the particular spot is **AVAILABLE**, while lower-case letters mean that the spot is **UNAVAILABLE**.\n",
    "\n",
    "Our function must return a list with the coordinates of the spot as an [X, Y] pair. See the example input and output below for an illustration.\n",
    "\n",
    "> #### Note\n",
    "> There may be multiple available spots for a particular vehicle. It does not matter which spot your function chooses, as long as the spot is available. And if there are no available spots, remember to return false.\n",
    "\n",
    "### Input\n",
    "\n",
    "```python\n",
    "def whereCanIPark(spots, vehicle):\n",
    "    # Code here!\n",
    "\n",
    "\n",
    "print(whereCanIPark(\n",
    "  [\n",
    "    # COLUMNS ARE X\n",
    "    # 0    1    2    3    4    5\n",
    "    ['s', 's', 's', 'S', 'R', 'M'], # 0 ROWS ARE Y\n",
    "    ['s', 'M', 's', 'S', 'r', 'M'], # 1\n",
    "    ['s', 'M', 's', 'S', 'r', 'm'], # 2\n",
    "    ['S', 'r', 's', 'm', 'r', 'M'], # 3\n",
    "    ['S', 'r', 's', 'm', 'r', 'M'], # 4\n",
    "    ['S', 'r', 'S', 'M', 'M', 'S']  # 5\n",
    "  ],\n",
    "  'regular'\n",
    "))\n",
    "\n",
    "print(whereCanIPark(\n",
    "  [\n",
    "    ['M', 'M', 'M', 'M'],\n",
    "    ['M', 's', 'M', 'M'],\n",
    "    ['M', 'M', 'M', 'M'],\n",
    "    ['M', 'M', 'r', 'M']\n",
    "  ],\n",
    "  'small'\n",
    "))\n",
    "\n",
    "print(whereCanIPark(\n",
    "  [\n",
    "    ['s', 's', 's', 's', 's', 's'],\n",
    "    ['s', 'm', 's', 'S', 'r', 's'],\n",
    "    ['s', 'm', 's', 'S', 'r', 's'],\n",
    "    ['S', 'r', 's', 'm', 'r', 's'],\n",
    "    ['S', 'r', 's', 'm', 'R', 's'],\n",
    "    ['S', 'r', 'S', 'M', 'm', 'S']\n",
    "  ],\n",
    "  'motorcycle'\n",
    "))\n",
    "```\n",
    "\n",
    "### Expected Output\n",
    "\n",
    "```terminal\n",
    "[4, 0]\n",
    "false\n",
    "[3, 1]\n",
    "```\n",
    "\n",
    "> #### Note\n",
    "> To go through a single list, we can use a single for-loop. To go through every element in a list of lists, we can use two for-loops: one nested within the other. We can go through [this article](https://www.digitalocean.com/community/tutorials/how-to-construct-for-loops-in-python-3) to get familiar with the logic of nested loops. It starts with basics but there is a dedicated section to **nested loops** at the end.\n",
    "\n"
   ]
  },
  {
   "cell_type": "code",
   "execution_count": null,
   "metadata": {},
   "outputs": [],
   "source": []
  },
  {
   "cell_type": "code",
   "execution_count": null,
   "metadata": {},
   "outputs": [],
   "source": []
  },
  {
   "cell_type": "code",
   "execution_count": null,
   "metadata": {},
   "outputs": [],
   "source": []
  },
  {
   "cell_type": "markdown",
   "metadata": {},
   "source": [
    "## Task II\n",
    "\n",
    "The new smart parking lot in Codeville was a big hit! Next on your list to tackle is the air quality. You've decided that you want to install air pollution sensors around the city to monitor air quality and identify problematic areas. We need to write the code for the sensors to trigger a special message when the air is too polluted.\n",
    "\n",
    "> #### Instruction\n",
    "> For this challenge, we will implement a function called <code>checkAir()</code>, which will check a collection of air samples. The function will take in two arguments. The first argument is a list of strings, where each string represents a small air sample that is either <code>clean</code> or <code>dirty</code>. The second argument is a number representing the highest acceptable amount of dirty samples. For example, a threshold of 0.4 means that there must be less than 40% of total samples classified as dirty for our air to be considered clean. Our function must return <code>Polluted</code> if there are too many dirty air samples, or <code>Clean</code> if the proportion of dirty samples is below the threshold.\n",
    "\n",
    "<div></div>\n",
    "\n",
    "> #### Note\n",
    "> Not sure where to get started? Try to count the number of occurences of dirty samples first. Once you know how many dirty samples there are, we just need to do some simple math to determine if it exceeds the threshold.\n",
    "\n",
    "### Input\n",
    "\n",
    "```python\n",
    "def checkAir(samples, threshold):\n",
    "    # Code here!\n",
    "\n",
    "\n",
    "print(checkAir(\n",
    "  ['clean', 'clean', 'dirty', 'clean', 'dirty', 'clean', 'clean', 'dirty', 'clean', 'dirty'],\n",
    "  0.3\n",
    "))\n",
    "\n",
    "print(checkAir(\n",
    "  ['dirty', 'dirty', 'dirty', 'dirty', 'clean'],\n",
    "  0.25\n",
    "))\n",
    "\n",
    "print(checkAir(\n",
    "  ['clean', 'dirty', 'clean', 'dirty', 'clean', 'dirty', 'clean'],\n",
    "  0.9\n",
    "))\n",
    "```\n",
    "\n",
    "### Expected Output\n",
    "\n",
    "```terminal\n",
    "Polluted\n",
    "Polluted\n",
    "Clean\n",
    "```"
   ]
  },
  {
   "cell_type": "code",
   "execution_count": null,
   "metadata": {},
   "outputs": [],
   "source": []
  },
  {
   "cell_type": "code",
   "execution_count": null,
   "metadata": {},
   "outputs": [],
   "source": []
  },
  {
   "cell_type": "code",
   "execution_count": null,
   "metadata": {},
   "outputs": [],
   "source": []
  },
  {
   "cell_type": "code",
   "execution_count": null,
   "metadata": {},
   "outputs": [],
   "source": []
  },
  {
   "cell_type": "code",
   "execution_count": null,
   "metadata": {},
   "outputs": [],
   "source": []
  },
  {
   "cell_type": "code",
   "execution_count": null,
   "metadata": {},
   "outputs": [],
   "source": []
  },
  {
   "cell_type": "code",
   "execution_count": null,
   "metadata": {},
   "outputs": [],
   "source": []
  },
  {
   "cell_type": "markdown",
   "metadata": {},
   "source": [
    "## **Stretch Content**"
   ]
  },
  {
   "cell_type": "markdown",
   "metadata": {},
   "source": [
    "## Poker Hand\n",
    "\n",
    "In this challenge, we have to determine which kind of Poker combination is present in a deck of 5 cards. Every card is a string containing the card value **with the upper-case initial for face-cards** and the **lower-case initial for the suit**, as seen in the examples below:\n",
    "\n",
    "> \"Ah\" ➞ Ace of hearts <br>\n",
    "> \"Ks\" ➞ King of spades<br>\n",
    "> \"3d\" ➞ Three of diamonds<br>\n",
    "> \"Qc\" ➞ Queen of clubs <br>\n",
    "\n",
    "There are 10 different combinations. Here's the list, in descending order of importance:"
   ]
  },
  {
   "cell_type": "markdown",
   "metadata": {},
   "source": [
    "| Name            | Description                                         |\n",
    "|-----------------|-----------------------------------------------------|\n",
    "| Royal Flush     | A, K, Q, J, 10, all with the same suit.             |\n",
    "| Straight Flush  | Five cards in sequence, all with the same suit.     |\n",
    "| Four of a Kind  | Four cards of the same rank.                        |\n",
    "| Full House      | Three of a Kind with a Pair.                        |\n",
    "| Flush           | Any five cards of the same suit, not in sequence    |\n",
    "| Straight        | Five cards in a sequence, but not of the same suit. |\n",
    "| Three of a Kind | Three cards of the same rank.                       |\n",
    "| Two Pair        | Two different Pairs.                                |\n",
    "| Pair            | Two cards of the same rank.                         |\n",
    "| High Card       | No other valid combination.                         |\n",
    "\n",
    "---------"
   ]
  },
  {
   "cell_type": "markdown",
   "metadata": {},
   "source": [
    "#### 1. Given a list `hand` containing five strings being the cards. Implement a function called `poker_hand_ranking` that **returns a string with the name of the highest combination obtained.** According to the table above.\n",
    "\n",
    "**Examples:**\n",
    "\n",
    "> poker_hand_ranking([\"10h\", \"Jh\", \"Qh\", \"Ah\", \"Kh\"]) ➞ \"Royal Flush\"<br>\n",
    "> poker_hand_ranking([\"3h\", \"5h\", \"Qs\", \"9h\", \"Ad\"]) ➞ \"High Card\"<br>\n",
    "> poker_hand_ranking([\"10s\", \"10c\", \"8d\", \"10d\", \"10h\"]) ➞ \"Four of a Kind\"<br>"
   ]
  },
  {
   "cell_type": "code",
   "execution_count": null,
   "metadata": {},
   "outputs": [],
   "source": []
  },
  {
   "cell_type": "code",
   "execution_count": null,
   "metadata": {},
   "outputs": [],
   "source": []
  },
  {
   "cell_type": "code",
   "execution_count": null,
   "metadata": {},
   "outputs": [],
   "source": []
  },
  {
   "cell_type": "code",
   "execution_count": null,
   "metadata": {},
   "outputs": [],
   "source": []
  },
  {
   "cell_type": "markdown",
   "metadata": {},
   "source": [
    "\n",
    "#### 2.  Implement a function `winner_is` that returns the winner given a dictionary with different players and their hands. \n",
    "**Example**\n",
    "\n",
    "We define dictionary like\n",
    "```python\n",
    "round_1 = {\"John\" = [\"10h\", \"Jh\", \"Qh\", \"Ah\", \"Kh\"], \n",
    "        \"Peter\" = [\"3h\", \"5h\", \"Qs\", \"9h\", \"Ad\"]}\n",
    "```\n",
    "\n",
    "Our function returns the name of the winner:\n",
    "> winner_is(round_1) --> \"John\"\n",
    "\n",
    "One table can have up to 10 players.\n"
   ]
  },
  {
   "cell_type": "code",
   "execution_count": null,
   "metadata": {},
   "outputs": [],
   "source": []
  },
  {
   "cell_type": "code",
   "execution_count": null,
   "metadata": {},
   "outputs": [],
   "source": []
  },
  {
   "cell_type": "code",
   "execution_count": null,
   "metadata": {},
   "outputs": [],
   "source": []
  },
  {
   "cell_type": "code",
   "execution_count": null,
   "metadata": {},
   "outputs": [],
   "source": []
  },
  {
   "cell_type": "markdown",
   "metadata": {},
   "source": [
    "#### 3. Create a function `distribute_cards` that randomly generates and gives 5 cards to every player given a list of player names.\n",
    "\n",
    "**Example**\n",
    "\n",
    "> distribute_cards([\"John\",\"Peter\"])  -> round_1 = {\"John\" = [\"10h\", \"Jh\", \"Qh\", \"Ah\", \"Kh\"], \n",
    "        \"Peter\" = [\"3h\", \"5h\", \"Qs\", \"9h\", \"Ad\"]\n",
    "}"
   ]
  },
  {
   "cell_type": "code",
   "execution_count": null,
   "metadata": {},
   "outputs": [],
   "source": []
  },
  {
   "cell_type": "code",
   "execution_count": null,
   "metadata": {},
   "outputs": [],
   "source": []
  },
  {
   "cell_type": "code",
   "execution_count": null,
   "metadata": {},
   "outputs": [],
   "source": []
  }
 ],
 "metadata": {
  "kernelspec": {
   "display_name": "Python 3",
   "language": "python",
   "name": "python3"
  },
  "language_info": {
   "codemirror_mode": {
    "name": "ipython",
    "version": 3
   },
   "file_extension": ".py",
   "mimetype": "text/x-python",
   "name": "python",
   "nbconvert_exporter": "python",
   "pygments_lexer": "ipython3",
   "version": "3.7.6"
  }
 },
 "nbformat": 4,
 "nbformat_minor": 4
}
